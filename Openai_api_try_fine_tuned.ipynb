{
  "nbformat": 4,
  "nbformat_minor": 0,
  "metadata": {
    "colab": {
      "provenance": [],
      "gpuType": "T4",
      "toc_visible": true,
      "include_colab_link": true
    },
    "kernelspec": {
      "name": "python3",
      "display_name": "Python 3"
    },
    "language_info": {
      "name": "python"
    }
  },
  "cells": [
    {
      "cell_type": "markdown",
      "metadata": {
        "id": "view-in-github",
        "colab_type": "text"
      },
      "source": [
        "<a href=\"https://colab.research.google.com/github/noob1200/try_sisakudankai/blob/main/Openai_api_try_fine_tuned.ipynb\" target=\"_parent\"><img src=\"https://colab.research.google.com/assets/colab-badge.svg\" alt=\"Open In Colab\"/></a>"
      ]
    },
    {
      "cell_type": "markdown",
      "metadata": {
        "id": "8kW_qXJVTjic"
      },
      "source": [
        "# ファインチューニングのモデル試作\n",
        "StreamlitとOpen APIを使い、ファインチューニングの実践練習"
      ]
    },
    {
      "cell_type": "code",
      "source": [
        "!export VAR=\"hello\"\n",
        "!echo $VAR"
      ],
      "metadata": {
        "id": "vypCiipLR8eT"
      },
      "execution_count": null,
      "outputs": []
    },
    {
      "cell_type": "code",
      "source": [
        "!pip install --upgrade openai -q"
      ],
      "metadata": {
        "id": "3Q07N-WMItii"
      },
      "execution_count": 3,
      "outputs": []
    },
    {
      "cell_type": "markdown",
      "source": [
        "## ライブラリのインストール\n",
        "Streamlit、およびアプリの動作の確認に使用する「ngrok」をインストールします。  \n",
        "また、ChatGPT APIを使用するために必要なライブラリ、openaiをインストールします。  "
      ],
      "metadata": {
        "id": "vRJCuxALcgkb"
      }
    },
    {
      "cell_type": "code",
      "execution_count": 4,
      "metadata": {
        "id": "Pbqipzj3nCy4",
        "colab": {
          "base_uri": "https://localhost:8080/",
          "height": 0
        },
        "outputId": "2bfd3f0c-7aed-4bf0-bed8-0fc5ee7680be"
      },
      "outputs": [
        {
          "output_type": "stream",
          "name": "stdout",
          "text": [
            "Requirement already satisfied: openai in /usr/local/lib/python3.10/dist-packages (0.27.8)\n",
            "Requirement already satisfied: requests>=2.20 in /usr/local/lib/python3.10/dist-packages (from openai) (2.31.0)\n",
            "Requirement already satisfied: tqdm in /usr/local/lib/python3.10/dist-packages (from openai) (4.66.1)\n",
            "Requirement already satisfied: aiohttp in /usr/local/lib/python3.10/dist-packages (from openai) (3.8.5)\n",
            "Requirement already satisfied: charset-normalizer<4,>=2 in /usr/local/lib/python3.10/dist-packages (from requests>=2.20->openai) (3.2.0)\n",
            "Requirement already satisfied: idna<4,>=2.5 in /usr/local/lib/python3.10/dist-packages (from requests>=2.20->openai) (3.4)\n",
            "Requirement already satisfied: urllib3<3,>=1.21.1 in /usr/local/lib/python3.10/dist-packages (from requests>=2.20->openai) (2.0.4)\n",
            "Requirement already satisfied: certifi>=2017.4.17 in /usr/local/lib/python3.10/dist-packages (from requests>=2.20->openai) (2023.7.22)\n",
            "Requirement already satisfied: attrs>=17.3.0 in /usr/local/lib/python3.10/dist-packages (from aiohttp->openai) (23.1.0)\n",
            "Requirement already satisfied: multidict<7.0,>=4.5 in /usr/local/lib/python3.10/dist-packages (from aiohttp->openai) (6.0.4)\n",
            "Requirement already satisfied: async-timeout<5.0,>=4.0.0a3 in /usr/local/lib/python3.10/dist-packages (from aiohttp->openai) (4.0.3)\n",
            "Requirement already satisfied: yarl<2.0,>=1.0 in /usr/local/lib/python3.10/dist-packages (from aiohttp->openai) (1.9.2)\n",
            "Requirement already satisfied: frozenlist>=1.1.1 in /usr/local/lib/python3.10/dist-packages (from aiohttp->openai) (1.4.0)\n",
            "Requirement already satisfied: aiosignal>=1.1.2 in /usr/local/lib/python3.10/dist-packages (from aiohttp->openai) (1.3.1)\n"
          ]
        }
      ],
      "source": [
        "!pip install streamlit==1.20.0 --quiet\n",
        "!pip install pyngrok==4.1.1 --quiet\n",
        "!pip install openai"
      ]
    },
    {
      "cell_type": "markdown",
      "source": [
        "インストールの完了後、streamlit、ngrok、およびopenaiをインポートしておきます。"
      ],
      "metadata": {
        "id": "husUkYy5dhZ4"
      }
    },
    {
      "cell_type": "code",
      "source": [
        "import streamlit as st\n",
        "from pyngrok import ngrok\n",
        "import openai"
      ],
      "metadata": {
        "id": "OsHcq-kaDwIi"
      },
      "execution_count": 5,
      "outputs": []
    },
    {
      "cell_type": "code",
      "source": [
        "import os\n",
        "os.environ[\"OPENAI_API_KEY\"] = \"API\""
      ],
      "metadata": {
        "id": "zOz2fnd4R_Ct"
      },
      "execution_count": 6,
      "outputs": []
    },
    {
      "cell_type": "markdown",
      "source": [
        "## .csvファイルのアップロード\n",
        "ファインチューニングに使うファイルをアップロードします。  \n"
      ],
      "metadata": {
        "id": "-n80MNi5SJoE"
      }
    },
    {
      "cell_type": "markdown",
      "source": [
        "-----------------------------------------------------------------------------\n",
        "## ファインチューニングを行うWebアプリのメインコード\n",
        "`%%writefile`のマジックコマンドを使って、チャットボットのコードを「app.py」に書き込みます。  \n",
        "ここで、APIを別ファイルに分けることで公開時にAPIをそのまま公開しないようにする\n",
        "\n",
        "-----------------------------------------------------------------------------"
      ],
      "metadata": {
        "id": "5fOtVgU5duPe"
      }
    },
    {
      "cell_type": "code",
      "source": [
        "import streamlit as st\n",
        "import openai\n",
        "import secret_keys  # 外部ファイルにAPI keyを保存\n",
        "import os\n",
        "\n",
        "os.environ[\"OPENAI_API_KEY\"] = secret_keys.openai_api_key"
      ],
      "metadata": {
        "id": "Ntj_BU3bnJli"
      },
      "execution_count": 7,
      "outputs": []
    },
    {
      "cell_type": "markdown",
      "source": [
        "## CSVをJSONLに変換する\n",
        "\n",
        "〇〇.csv→〇〇.jsonl生成\n",
        "（一回生成したら、用済み。コメントアウト又は削除）"
      ],
      "metadata": {
        "id": "Xhm4Zg7fzqON"
      }
    },
    {
      "cell_type": "code",
      "source": [
        "# import pandas as pd\n",
        "\n",
        "#データセットの準備\n",
        "\n",
        "# df =pd.read_csv(\n",
        "#     'tsukuyomi.csv',\n",
        "#     usecols=[1,2],\n",
        "#     names = ['prompt','completion'],\n",
        "#     skiprows=2\n",
        "# )\n",
        "# df.to_json(\n",
        "#     \"tsukuyomi.jsonl\",\n",
        "#     orient='records',\n",
        "#     lines= True,\n",
        "#     force_ascii=False\n",
        "# )"
      ],
      "metadata": {
        "id": "K9EolAytz43C"
      },
      "execution_count": 8,
      "outputs": []
    },
    {
      "cell_type": "markdown",
      "source": [
        "## データセットの検証\n",
        "openaiパッケージで提供している「検証ツール」を使って、データせっとの検証を行う。この検証ツールは、修正案を出すだけではなく、修正じたいも自動的に行うことが出来ます。\n",
        "\n",
        "〇〇.jsonl→〇〇_prepared.jsonlが生成\n",
        "（一回生成したら、用済み。コメントアウト又は削除）"
      ],
      "metadata": {
        "id": "lYc8GYia0eEK"
      }
    },
    {
      "cell_type": "code",
      "source": [
        "# データセットの検証\n",
        "\n",
        "# !openai tools fine_tunes.prepare_data \\\n",
        "#     -f tsukuyomi.jsonl \\\n",
        "#     -q"
      ],
      "metadata": {
        "id": "rvyZtVzY0GNF",
        "colab": {
          "base_uri": "https://localhost:8080/",
          "height": 0
        },
        "outputId": "1484b51e-f69a-425f-ef9e-19757d090ef7"
      },
      "execution_count": 9,
      "outputs": [
        {
          "output_type": "stream",
          "name": "stdout",
          "text": [
            "Analyzing...\n",
            "\n",
            "- Your file contains 469 prompt-completion pairs\n",
            "- There are 2 duplicated prompt-completion sets. These are rows: [438, 439]\n",
            "- More than a third of your `prompt` column/key is uppercase. Uppercase prompts tends to perform worse than a mixture of case encountered in normal language. We recommend to lower case the data if that makes sense in your domain. See https://platform.openai.com/docs/guides/fine-tuning/preparing-your-dataset for more details\n",
            "- More than a third of your `completion` column/key is uppercase. Uppercase completions tends to perform worse than a mixture of case encountered in normal language. We recommend to lower case the data if that makes sense in your domain. See https://platform.openai.com/docs/guides/fine-tuning/preparing-your-dataset for more details\n",
            "- Your data does not contain a common separator at the end of your prompts. Having a separator string appended to the end of the prompt makes it clearer to the fine-tuned model where the completion should begin. See https://platform.openai.com/docs/guides/fine-tuning/preparing-your-dataset for more detail and examples. If you intend to do open-ended generation, then you should leave the prompts empty\n",
            "- Your data does not contain a common ending at the end of your completions. Having a common ending string appended to the end of the completion makes it clearer to the fine-tuned model where the completion should end. See https://platform.openai.com/docs/guides/fine-tuning/preparing-your-dataset for more detail and examples.\n",
            "- The completion should start with a whitespace character (` `). This tends to produce better results due to the tokenization we use. See https://platform.openai.com/docs/guides/fine-tuning/preparing-your-dataset for more details\n",
            "\n",
            "Based on the analysis we will perform the following actions:\n",
            "- [Recommended] Remove 2 duplicate rows [Y/n]: Y\n",
            "- [Recommended] Lowercase all your data in column/key `prompt` [Y/n]: Y\n",
            "/usr/local/lib/python3.10/dist-packages/openai/validators.py:452: SettingWithCopyWarning: \n",
            "A value is trying to be set on a copy of a slice from a DataFrame.\n",
            "Try using .loc[row_indexer,col_indexer] = value instead\n",
            "\n",
            "See the caveats in the documentation: https://pandas.pydata.org/pandas-docs/stable/user_guide/indexing.html#returning-a-view-versus-a-copy\n",
            "  x[column] = x[column].str.lower()\n",
            "- [Recommended] Lowercase all your data in column/key `completion` [Y/n]: Y\n",
            "- [Recommended] Add a suffix separator ` ->` to all prompts [Y/n]: Y\n",
            "/usr/local/lib/python3.10/dist-packages/openai/validators.py:226: SettingWithCopyWarning: \n",
            "A value is trying to be set on a copy of a slice from a DataFrame.\n",
            "Try using .loc[row_indexer,col_indexer] = value instead\n",
            "\n",
            "See the caveats in the documentation: https://pandas.pydata.org/pandas-docs/stable/user_guide/indexing.html#returning-a-view-versus-a-copy\n",
            "  x[\"prompt\"] += suffix\n",
            "- [Recommended] Add a suffix ending `\\n` to all completions [Y/n]: Y\n",
            "/usr/local/lib/python3.10/dist-packages/openai/validators.py:382: SettingWithCopyWarning: \n",
            "A value is trying to be set on a copy of a slice from a DataFrame.\n",
            "Try using .loc[row_indexer,col_indexer] = value instead\n",
            "\n",
            "See the caveats in the documentation: https://pandas.pydata.org/pandas-docs/stable/user_guide/indexing.html#returning-a-view-versus-a-copy\n",
            "  x[\"completion\"] += suffix\n",
            "- [Recommended] Add a whitespace character to the beginning of the completion [Y/n]: Y\n",
            "/usr/local/lib/python3.10/dist-packages/openai/validators.py:425: SettingWithCopyWarning: \n",
            "A value is trying to be set on a copy of a slice from a DataFrame.\n",
            "Try using .loc[row_indexer,col_indexer] = value instead\n",
            "\n",
            "See the caveats in the documentation: https://pandas.pydata.org/pandas-docs/stable/user_guide/indexing.html#returning-a-view-versus-a-copy\n",
            "  x[\"completion\"] = x[\"completion\"].apply(\n",
            "\n",
            "\n",
            "Your data will be written to a new JSONL file. Proceed [Y/n]: Y\n",
            "\n",
            "Wrote modified file to `tsukuyomi_prepared (2).jsonl`\n",
            "Feel free to take a look!\n",
            "\n",
            "Now use that file when fine-tuning:\n",
            "> openai api fine_tunes.create -t \"tsukuyomi_prepared (2).jsonl\"\n",
            "\n",
            "After you’ve fine-tuned a model, remember that your prompt has to end with the indicator string ` ->` for the model to start generating completions, rather than continuing with the prompt. Make sure to include `stop=[\"\\n\"]` so that the generated texts ends at the expected place.\n",
            "Once your model starts training, it'll approximately take 26.16 minutes to train a `curie` model, and less for `ada` and `babbage`. Queue will approximately take half an hour per job ahead of you.\n"
          ]
        }
      ]
    },
    {
      "cell_type": "markdown",
      "source": [
        "## OpenAIのAPI keyを設定\n",
        "Open APIを使用するために必要な「API key」を設定します。  \n",
        "`%%writefile`のマジックコマンドを使って、API keyを設定するコードを「secret_keys.py」に書き込みます。  \n",
        "\n"
      ],
      "metadata": {
        "id": "pCvWZuvqQvyC"
      }
    },
    {
      "cell_type": "code",
      "source": [
        "%%writefile secret_keys.py\n",
        "\n",
        "openai_api_key = \"API\""
      ],
      "metadata": {
        "id": "4lkJr3dk89bD",
        "colab": {
          "base_uri": "https://localhost:8080/",
          "height": 0
        },
        "outputId": "6d3a4680-b358-4bab-cd9d-5d746521bb59"
      },
      "execution_count": 10,
      "outputs": [
        {
          "output_type": "stream",
          "name": "stdout",
          "text": [
            "Overwriting secret_keys.py\n"
          ]
        }
      ]
    },
    {
      "cell_type": "markdown",
      "source": [
        "API keyの流出にはリスクがあります。  \n",
        "他者に知られないように、慎重に扱ってください。"
      ],
      "metadata": {
        "id": "2lEUNEp9n95k"
      }
    },
    {
      "cell_type": "markdown",
      "source": [
        "## ngrokのAuthtokenを設定\n",
        "ngrokで接続するために必要な「Authtoken」を設定します。  \n",
        "以下のコードの、  \n",
        "`!ngrok authtoken YourAuthtoken`  \n",
        "における  \n",
        "`YourAuthtoken`の箇所を、自分のAuthtokenに置き換えます。  \n",
        "Authtokenは、ngrokのサイトに登録すれば取得することができます。  \n",
        "https://ngrok.com/\n"
      ],
      "metadata": {
        "id": "j03EsJaHh4KK"
      }
    },
    {
      "cell_type": "code",
      "source": [
        "!ngrok authtoken <code>"
      ],
      "metadata": {
        "colab": {
          "base_uri": "https://localhost:8080/",
          "height": 0
        },
        "id": "zn6_dg0IMT1S",
        "outputId": "c188f7b7-bec4-49d6-887d-793a58ab55ef"
      },
      "execution_count": 11,
      "outputs": [
        {
          "output_type": "stream",
          "name": "stdout",
          "text": [
            "Authtoken saved to configuration file: /root/.ngrok2/ngrok.yml\n"
          ]
        }
      ]
    },
    {
      "cell_type": "markdown",
      "source": [
        "ngrokのAuthtokenも、他者に知られないように慎重に扱ってください。"
      ],
      "metadata": {
        "id": "c_QaXaeyZHTJ"
      }
    },
    {
      "cell_type": "markdown",
      "source": [
        "##ファインチューニングの実行\n",
        "**実行後は、誤作動を避けるためすぐにコメントアウト（学習資材によって料金がかなりかかる）**"
      ],
      "metadata": {
        "id": "VicMz1IZ1mrn"
      }
    },
    {
      "cell_type": "code",
      "source": [
        "# ファインチューニングの実行\n",
        "\n",
        "# !openai api fine_tunes.create \\\n",
        "#    -t \"tsukuyomi_prepared.jsonl\" \\\n",
        "#    -m davinci"
      ],
      "metadata": {
        "id": "2tdxpCeO1-CZ"
      },
      "execution_count": 12,
      "outputs": []
    },
    {
      "cell_type": "markdown",
      "source": [
        "-----------------------------------------------------------------------------\n",
        "##【ストリームの対応】\n",
        "\n",
        "####ストリームの再開\n",
        "####ジョブの状態確認\n",
        "####ファインチューニングのモデル一覧取得\n",
        "####ファインチューニングのモデル削除\n",
        "\n",
        "\n",
        "\n",
        "\n",
        "\n",
        "\n",
        "\n",
        "\n",
        "-----------------------------------------------------------------------------\n"
      ],
      "metadata": {
        "id": "ptm8cV0UzN37"
      }
    },
    {
      "cell_type": "code",
      "source": [
        "#ストリームの再開\n",
        "!openai api fine_tunes.follow -i ft-m0PZFkmLD1w3pBuQZfAkQvxa"
      ],
      "metadata": {
        "id": "utoUmZKnzENA",
        "colab": {
          "base_uri": "https://localhost:8080/",
          "height": 0
        },
        "outputId": "c57d668b-aefd-4dd0-b152-122fcacfd93f"
      },
      "execution_count": 13,
      "outputs": [
        {
          "output_type": "stream",
          "name": "stdout",
          "text": [
            "[2023-08-17 07:05:25] Created fine-tune: ft-m0PZFkmLD1w3pBuQZfAkQvxa\n",
            "[2023-08-17 07:06:25] Fine-tune costs $3.21\n",
            "[2023-08-17 07:06:26] Fine-tune enqueued. Queue number: 0\n",
            "[2023-08-17 07:06:29] Fine-tune started\n",
            "[2023-08-17 07:10:30] Completed epoch 1/4\n",
            "[2023-08-17 07:12:59] Completed epoch 2/4\n",
            "[2023-08-17 07:15:27] Completed epoch 3/4\n",
            "[2023-08-17 07:17:55] Completed epoch 4/4\n",
            "[2023-08-17 07:18:34] Uploaded model: davinci:ft-personal-2023-08-17-07-18-34\n",
            "[2023-08-17 07:18:36] Uploaded result file: file-8Yj3yPzFtGwsFBOvJ44sA2dg\n",
            "[2023-08-17 07:18:36] Fine-tune succeeded\n",
            "\n",
            "Job complete! Status: succeeded 🎉\n",
            "Try out your fine-tuned model:\n",
            "\n",
            "openai api completions.create -m davinci:ft-personal-2023-08-17-07-18-34 -p <YOUR_PROMPT>\n"
          ]
        }
      ]
    },
    {
      "cell_type": "code",
      "source": [
        "#ジョブの状態確認\n",
        "\n",
        "!openai api fine_tunes.get -i ft-m0PZFkmLD1w3pBuQZfAkQvxa"
      ],
      "metadata": {
        "id": "NcUy0sSAzQjJ",
        "colab": {
          "base_uri": "https://localhost:8080/",
          "height": 0
        },
        "outputId": "63282c72-9ac2-45d2-9e3a-5578152c2fb3"
      },
      "execution_count": 14,
      "outputs": [
        {
          "output_type": "stream",
          "name": "stdout",
          "text": [
            "{\n",
            "  \"object\": \"fine-tune\",\n",
            "  \"id\": \"ft-m0PZFkmLD1w3pBuQZfAkQvxa\",\n",
            "  \"hyperparams\": {\n",
            "    \"n_epochs\": 4,\n",
            "    \"batch_size\": 1,\n",
            "    \"prompt_loss_weight\": 0.01,\n",
            "    \"learning_rate_multiplier\": 0.1\n",
            "  },\n",
            "  \"organization_id\": \"org-plpRKLmRfl1yUN1RJKIoESNe\",\n",
            "  \"model\": \"davinci\",\n",
            "  \"training_files\": [\n",
            "    {\n",
            "      \"object\": \"file\",\n",
            "      \"id\": \"file-jqBfQDfj2VCUD2gSJHgLoLYA\",\n",
            "      \"purpose\": \"fine-tune\",\n",
            "      \"filename\": \"tsukuyomi_prepared.jsonl\",\n",
            "      \"bytes\": 71401,\n",
            "      \"created_at\": 1692255925,\n",
            "      \"status\": \"processed\",\n",
            "      \"status_details\": null\n",
            "    }\n",
            "  ],\n",
            "  \"validation_files\": [],\n",
            "  \"result_files\": [\n",
            "    {\n",
            "      \"object\": \"file\",\n",
            "      \"id\": \"file-8Yj3yPzFtGwsFBOvJ44sA2dg\",\n",
            "      \"purpose\": \"fine-tune-results\",\n",
            "      \"filename\": \"compiled_results.csv\",\n",
            "      \"bytes\": 99877,\n",
            "      \"created_at\": 1692256715,\n",
            "      \"status\": \"processed\",\n",
            "      \"status_details\": null\n",
            "    }\n",
            "  ],\n",
            "  \"created_at\": 1692255925,\n",
            "  \"updated_at\": 1692256716,\n",
            "  \"status\": \"succeeded\",\n",
            "  \"fine_tuned_model\": \"davinci:ft-personal-2023-08-17-07-18-34\",\n",
            "  \"events\": [\n",
            "    {\n",
            "      \"object\": \"fine-tune-event\",\n",
            "      \"level\": \"info\",\n",
            "      \"message\": \"Created fine-tune: ft-m0PZFkmLD1w3pBuQZfAkQvxa\",\n",
            "      \"created_at\": 1692255925\n",
            "    },\n",
            "    {\n",
            "      \"object\": \"fine-tune-event\",\n",
            "      \"level\": \"info\",\n",
            "      \"message\": \"Fine-tune costs $3.21\",\n",
            "      \"created_at\": 1692255985\n",
            "    },\n",
            "    {\n",
            "      \"object\": \"fine-tune-event\",\n",
            "      \"level\": \"info\",\n",
            "      \"message\": \"Fine-tune enqueued. Queue number: 0\",\n",
            "      \"created_at\": 1692255986\n",
            "    },\n",
            "    {\n",
            "      \"object\": \"fine-tune-event\",\n",
            "      \"level\": \"info\",\n",
            "      \"message\": \"Fine-tune started\",\n",
            "      \"created_at\": 1692255989\n",
            "    },\n",
            "    {\n",
            "      \"object\": \"fine-tune-event\",\n",
            "      \"level\": \"info\",\n",
            "      \"message\": \"Completed epoch 1/4\",\n",
            "      \"created_at\": 1692256230\n",
            "    },\n",
            "    {\n",
            "      \"object\": \"fine-tune-event\",\n",
            "      \"level\": \"info\",\n",
            "      \"message\": \"Completed epoch 2/4\",\n",
            "      \"created_at\": 1692256379\n",
            "    },\n",
            "    {\n",
            "      \"object\": \"fine-tune-event\",\n",
            "      \"level\": \"info\",\n",
            "      \"message\": \"Completed epoch 3/4\",\n",
            "      \"created_at\": 1692256527\n",
            "    },\n",
            "    {\n",
            "      \"object\": \"fine-tune-event\",\n",
            "      \"level\": \"info\",\n",
            "      \"message\": \"Completed epoch 4/4\",\n",
            "      \"created_at\": 1692256675\n",
            "    },\n",
            "    {\n",
            "      \"object\": \"fine-tune-event\",\n",
            "      \"level\": \"info\",\n",
            "      \"message\": \"Uploaded model: davinci:ft-personal-2023-08-17-07-18-34\",\n",
            "      \"created_at\": 1692256714\n",
            "    },\n",
            "    {\n",
            "      \"object\": \"fine-tune-event\",\n",
            "      \"level\": \"info\",\n",
            "      \"message\": \"Uploaded result file: file-8Yj3yPzFtGwsFBOvJ44sA2dg\",\n",
            "      \"created_at\": 1692256716\n",
            "    },\n",
            "    {\n",
            "      \"object\": \"fine-tune-event\",\n",
            "      \"level\": \"info\",\n",
            "      \"message\": \"Fine-tune succeeded\",\n",
            "      \"created_at\": 1692256716\n",
            "    }\n",
            "  ]\n",
            "}\n"
          ]
        }
      ]
    },
    {
      "cell_type": "code",
      "source": [
        "#ファインチューニングのモデル削除\n",
        "\n",
        "!openai api models.delete -i"
      ],
      "metadata": {
        "id": "1suIGxw6zSp8"
      },
      "execution_count": null,
      "outputs": []
    },
    {
      "cell_type": "code",
      "source": [
        "#ファインチューニングのモデル一覧取得\n",
        "\n",
        "!openai api fine_tunes.list"
      ],
      "metadata": {
        "id": "eVSIW1wWzT3l",
        "colab": {
          "base_uri": "https://localhost:8080/",
          "height": 0
        },
        "outputId": "191118a4-5cd6-4b64-e37f-7c918cb7cb7d"
      },
      "execution_count": 16,
      "outputs": [
        {
          "output_type": "stream",
          "name": "stdout",
          "text": [
            "{\n",
            "  \"object\": \"list\",\n",
            "  \"data\": [\n",
            "    {\n",
            "      \"object\": \"fine-tune\",\n",
            "      \"id\": \"ft-zFboLQC6znaW0BMPJpHW3IRI\",\n",
            "      \"hyperparams\": {\n",
            "        \"n_epochs\": 4,\n",
            "        \"batch_size\": 1,\n",
            "        \"prompt_loss_weight\": 0.01,\n",
            "        \"learning_rate_multiplier\": 0.1\n",
            "      },\n",
            "      \"organization_id\": \"org-plpRKLmRfl1yUN1RJKIoESNe\",\n",
            "      \"model\": \"davinci\",\n",
            "      \"training_files\": [\n",
            "        {\n",
            "          \"object\": \"file\",\n",
            "          \"id\": \"file-lrPSGbAiWzeWpDMdwAEUwBOx\",\n",
            "          \"purpose\": \"fine-tune\",\n",
            "          \"filename\": \"tsukuyomi_prepared.jsonl\",\n",
            "          \"bytes\": 71401,\n",
            "          \"created_at\": 1692192057,\n",
            "          \"status\": \"processed\",\n",
            "          \"status_details\": null\n",
            "        }\n",
            "      ],\n",
            "      \"validation_files\": [],\n",
            "      \"result_files\": [\n",
            "        {\n",
            "          \"object\": \"file\",\n",
            "          \"id\": \"file-zEHUUQWmmM0osdEcdtFdiWWV\",\n",
            "          \"purpose\": \"fine-tune-results\",\n",
            "          \"filename\": \"compiled_results.csv\",\n",
            "          \"bytes\": 99918,\n",
            "          \"created_at\": 1692193005,\n",
            "          \"status\": \"processed\",\n",
            "          \"status_details\": null\n",
            "        }\n",
            "      ],\n",
            "      \"created_at\": 1692192057,\n",
            "      \"updated_at\": 1692193006,\n",
            "      \"status\": \"succeeded\",\n",
            "      \"fine_tuned_model\": \"davinci:ft-personal-2023-08-16-13-36-44\"\n",
            "    },\n",
            "    {\n",
            "      \"object\": \"fine-tune\",\n",
            "      \"id\": \"ft-wxtxxZvrnVIWy8xqFkSdhpdJ\",\n",
            "      \"hyperparams\": {\n",
            "        \"n_epochs\": 4,\n",
            "        \"batch_size\": null,\n",
            "        \"prompt_loss_weight\": 0.01,\n",
            "        \"learning_rate_multiplier\": null\n",
            "      },\n",
            "      \"organization_id\": \"org-plpRKLmRfl1yUN1RJKIoESNe\",\n",
            "      \"model\": \"davinci\",\n",
            "      \"training_files\": [\n",
            "        {\n",
            "          \"object\": \"file\",\n",
            "          \"id\": \"file-ZZaJp8wVk39oBnrE4e5H6Ygy\",\n",
            "          \"purpose\": \"fine-tune\",\n",
            "          \"filename\": \"tsukuyomi_prepared.jsonl\",\n",
            "          \"bytes\": 71401,\n",
            "          \"created_at\": 1692192729,\n",
            "          \"status\": \"processed\",\n",
            "          \"status_details\": null\n",
            "        }\n",
            "      ],\n",
            "      \"validation_files\": [],\n",
            "      \"result_files\": [],\n",
            "      \"created_at\": 1692192730,\n",
            "      \"updated_at\": 1692193058,\n",
            "      \"status\": \"failed\",\n",
            "      \"fine_tuned_model\": null\n",
            "    },\n",
            "    {\n",
            "      \"object\": \"fine-tune\",\n",
            "      \"id\": \"ft-k9KtbkZyXkoUdqKuJk9nJnOZ\",\n",
            "      \"hyperparams\": {\n",
            "        \"n_epochs\": 4,\n",
            "        \"batch_size\": null,\n",
            "        \"prompt_loss_weight\": 0.01,\n",
            "        \"learning_rate_multiplier\": null\n",
            "      },\n",
            "      \"organization_id\": \"org-plpRKLmRfl1yUN1RJKIoESNe\",\n",
            "      \"model\": \"davinci\",\n",
            "      \"training_files\": [\n",
            "        {\n",
            "          \"object\": \"file\",\n",
            "          \"id\": \"file-801B8SqtD6WcGLT8sPOFAwxU\",\n",
            "          \"purpose\": \"fine-tune\",\n",
            "          \"filename\": \"tsukuyomi_prepared.jsonl\",\n",
            "          \"bytes\": 71401,\n",
            "          \"created_at\": 1692192893,\n",
            "          \"status\": \"processed\",\n",
            "          \"status_details\": null\n",
            "        }\n",
            "      ],\n",
            "      \"validation_files\": [],\n",
            "      \"result_files\": [],\n",
            "      \"created_at\": 1692192893,\n",
            "      \"updated_at\": 1692193059,\n",
            "      \"status\": \"failed\",\n",
            "      \"fine_tuned_model\": null\n",
            "    },\n",
            "    {\n",
            "      \"object\": \"fine-tune\",\n",
            "      \"id\": \"ft-pngkG68MFcvilB9U2q7PEuaj\",\n",
            "      \"hyperparams\": {\n",
            "        \"n_epochs\": 4,\n",
            "        \"batch_size\": null,\n",
            "        \"prompt_loss_weight\": 0.01,\n",
            "        \"learning_rate_multiplier\": null\n",
            "      },\n",
            "      \"organization_id\": \"org-plpRKLmRfl1yUN1RJKIoESNe\",\n",
            "      \"model\": \"davinci\",\n",
            "      \"training_files\": [\n",
            "        {\n",
            "          \"object\": \"file\",\n",
            "          \"id\": \"file-9ILUaJAGsL08uWD8mQTKPVxU\",\n",
            "          \"purpose\": \"fine-tune\",\n",
            "          \"filename\": \"tsukuyomi_prepared.jsonl\",\n",
            "          \"bytes\": 71401,\n",
            "          \"created_at\": 1692193169,\n",
            "          \"status\": \"processed\",\n",
            "          \"status_details\": null\n",
            "        }\n",
            "      ],\n",
            "      \"validation_files\": [],\n",
            "      \"result_files\": [],\n",
            "      \"created_at\": 1692193169,\n",
            "      \"updated_at\": 1692193323,\n",
            "      \"status\": \"failed\",\n",
            "      \"fine_tuned_model\": null\n",
            "    },\n",
            "    {\n",
            "      \"object\": \"fine-tune\",\n",
            "      \"id\": \"ft-F9eeGRXaucMvUXJG0084RL1a\",\n",
            "      \"hyperparams\": {\n",
            "        \"n_epochs\": 4,\n",
            "        \"batch_size\": null,\n",
            "        \"prompt_loss_weight\": 0.01,\n",
            "        \"learning_rate_multiplier\": null\n",
            "      },\n",
            "      \"organization_id\": \"org-plpRKLmRfl1yUN1RJKIoESNe\",\n",
            "      \"model\": \"davinci\",\n",
            "      \"training_files\": [\n",
            "        {\n",
            "          \"object\": \"file\",\n",
            "          \"id\": \"file-7jYPRJtAXluxw2r9xpKD4LEA\",\n",
            "          \"purpose\": \"fine-tune\",\n",
            "          \"filename\": \"tsukuyomi_prepared.jsonl\",\n",
            "          \"bytes\": 71401,\n",
            "          \"created_at\": 1692194331,\n",
            "          \"status\": \"processed\",\n",
            "          \"status_details\": null\n",
            "        }\n",
            "      ],\n",
            "      \"validation_files\": [],\n",
            "      \"result_files\": [],\n",
            "      \"created_at\": 1692194331,\n",
            "      \"updated_at\": 1692194453,\n",
            "      \"status\": \"failed\",\n",
            "      \"fine_tuned_model\": null\n",
            "    },\n",
            "    {\n",
            "      \"object\": \"fine-tune\",\n",
            "      \"id\": \"ft-kGefESnVkCeJ0onqMxBUXbVe\",\n",
            "      \"hyperparams\": {\n",
            "        \"n_epochs\": 4,\n",
            "        \"batch_size\": null,\n",
            "        \"prompt_loss_weight\": 0.01,\n",
            "        \"learning_rate_multiplier\": null\n",
            "      },\n",
            "      \"organization_id\": \"org-plpRKLmRfl1yUN1RJKIoESNe\",\n",
            "      \"model\": \"davinci\",\n",
            "      \"training_files\": [\n",
            "        {\n",
            "          \"object\": \"file\",\n",
            "          \"id\": \"file-Kp7yHL8wSwt0nfYLJFf2gQM3\",\n",
            "          \"purpose\": \"fine-tune\",\n",
            "          \"filename\": \"tsukuyomi_prepared.jsonl\",\n",
            "          \"bytes\": 71401,\n",
            "          \"created_at\": 1692254307,\n",
            "          \"status\": \"processed\",\n",
            "          \"status_details\": null\n",
            "        }\n",
            "      ],\n",
            "      \"validation_files\": [],\n",
            "      \"result_files\": [],\n",
            "      \"created_at\": 1692254307,\n",
            "      \"updated_at\": 1692254380,\n",
            "      \"status\": \"failed\",\n",
            "      \"fine_tuned_model\": null\n",
            "    },\n",
            "    {\n",
            "      \"object\": \"fine-tune\",\n",
            "      \"id\": \"ft-m0PZFkmLD1w3pBuQZfAkQvxa\",\n",
            "      \"hyperparams\": {\n",
            "        \"n_epochs\": 4,\n",
            "        \"batch_size\": 1,\n",
            "        \"prompt_loss_weight\": 0.01,\n",
            "        \"learning_rate_multiplier\": 0.1\n",
            "      },\n",
            "      \"organization_id\": \"org-plpRKLmRfl1yUN1RJKIoESNe\",\n",
            "      \"model\": \"davinci\",\n",
            "      \"training_files\": [\n",
            "        {\n",
            "          \"object\": \"file\",\n",
            "          \"id\": \"file-jqBfQDfj2VCUD2gSJHgLoLYA\",\n",
            "          \"purpose\": \"fine-tune\",\n",
            "          \"filename\": \"tsukuyomi_prepared.jsonl\",\n",
            "          \"bytes\": 71401,\n",
            "          \"created_at\": 1692255925,\n",
            "          \"status\": \"processed\",\n",
            "          \"status_details\": null\n",
            "        }\n",
            "      ],\n",
            "      \"validation_files\": [],\n",
            "      \"result_files\": [\n",
            "        {\n",
            "          \"object\": \"file\",\n",
            "          \"id\": \"file-8Yj3yPzFtGwsFBOvJ44sA2dg\",\n",
            "          \"purpose\": \"fine-tune-results\",\n",
            "          \"filename\": \"compiled_results.csv\",\n",
            "          \"bytes\": 99877,\n",
            "          \"created_at\": 1692256715,\n",
            "          \"status\": \"processed\",\n",
            "          \"status_details\": null\n",
            "        }\n",
            "      ],\n",
            "      \"created_at\": 1692255925,\n",
            "      \"updated_at\": 1692256716,\n",
            "      \"status\": \"succeeded\",\n",
            "      \"fine_tuned_model\": \"davinci:ft-personal-2023-08-17-07-18-34\"\n",
            "    }\n",
            "  ],\n",
            "  \"next_starting_after\": null\n",
            "}\n"
          ]
        }
      ]
    },
    {
      "cell_type": "markdown",
      "source": [
        "##推論の実行！！"
      ],
      "metadata": {
        "id": "NPcVGMGlXl_y"
      }
    },
    {
      "cell_type": "code",
      "source": [
        "import streamlit as st\n",
        "import openai\n",
        "import secret_keys  # 外部ファイルにAPI keyを保存\n",
        "import os\n",
        "\n",
        "openai.api_key = secret_keys.openai_api_key\n",
        "\n",
        "# 推論の実行\n",
        "\n",
        "prompt = \"好きな食べ物は何？->\"\n",
        "response =openai.Completion.create(\n",
        "    model =\"davinci:ft-personal-2023-08-17-07-18-34\",\n",
        "    prompt = prompt,\n",
        "    stop = \"\\n\"\n",
        ")\n",
        "print(response[\"choices\"][0][\"text\"])\n",
        "\n",
        "\n",
        "\n",
        "# # st.session_stateを使いメッセージのやりとりを保存\n",
        "# if \"messages\" not in st.session_state:\n",
        "#     st.session_state[\"messages\"] = [\n",
        "#         {\"role\": \"system\", \"content\": \"あなたの名前はtsumikiです。\"}\n",
        "#         ]\n",
        "\n",
        "# # チャットボットとやりとりする関数\n",
        "# def communicate():\n",
        "#     messages = st.session_state[\"messages\"]\n",
        "\n",
        "#     user_message = {\"role\": \"user\", \"content\": st.session_state[\"user_input\"]}\n",
        "#     messages.append(user_message)\n",
        "\n",
        "#     response = openai.Completion.create(\n",
        "#         model=\"davinci:ft-personal-2023-08-17-07-18-34\",\n",
        "#         messages=messages,\n",
        "#         stop = \"\\n\"\n",
        "#     )\n",
        "\n",
        "#     bot_message = response[\"choices\"][0][\"message\"]\n",
        "#     messages.append(bot_message)\n",
        "\n",
        "#     st.session_state[\"user_input\"] = \"\"  # 入力欄を消去\n",
        "\n",
        "\n",
        "# # ユーザーインターフェイスの構築\n",
        "# # st.title(\"My AI Assistant\")\n",
        "# # st.write(\"ChatGPT APIを使ったチャットボットです。\")\n",
        "\n",
        "# user_input = st.text_input(\"メッセージを入力してください。\", key=\"user_input\", on_change=communicate)\n",
        "\n",
        "# if st.session_state[\"messages\"]:\n",
        "#     messages = st.session_state[\"messages\"]\n",
        "\n",
        "#     for message in reversed(messages[1:]):  # 直近のメッセージを上に\n",
        "#         speaker = \"🙂\"\n",
        "#         if message[\"role\"]==\"assistant\":\n",
        "#             speaker=\"🤖\"\n",
        "\n",
        "#         st.write(speaker + \": \" + message[\"content\"])"
      ],
      "metadata": {
        "colab": {
          "base_uri": "https://localhost:8080/",
          "height": 573
        },
        "id": "cxe1OSVQXoOJ",
        "outputId": "5756b5d1-dab9-4f3e-b612-e871fe6b2dcc"
      },
      "execution_count": 36,
      "outputs": [
        {
          "output_type": "error",
          "ename": "AttributeError",
          "evalue": "ignored",
          "traceback": [
            "\u001b[0;31m---------------------------------------------------------------------------\u001b[0m",
            "\u001b[0;31mKeyError\u001b[0m                                  Traceback (most recent call last)",
            "\u001b[0;32m/usr/local/lib/python3.10/dist-packages/streamlit/runtime/state/session_state.py\u001b[0m in \u001b[0;36m__getitem__\u001b[0;34m(self, key)\u001b[0m\n\u001b[1;32m    367\u001b[0m         \u001b[0;32mtry\u001b[0m\u001b[0;34m:\u001b[0m\u001b[0;34m\u001b[0m\u001b[0;34m\u001b[0m\u001b[0m\n\u001b[0;32m--> 368\u001b[0;31m             \u001b[0;32mreturn\u001b[0m \u001b[0mself\u001b[0m\u001b[0;34m.\u001b[0m\u001b[0m_getitem\u001b[0m\u001b[0;34m(\u001b[0m\u001b[0mwidget_id\u001b[0m\u001b[0;34m,\u001b[0m \u001b[0mkey\u001b[0m\u001b[0;34m)\u001b[0m\u001b[0;34m\u001b[0m\u001b[0;34m\u001b[0m\u001b[0m\n\u001b[0m\u001b[1;32m    369\u001b[0m         \u001b[0;32mexcept\u001b[0m \u001b[0mKeyError\u001b[0m\u001b[0;34m:\u001b[0m\u001b[0;34m\u001b[0m\u001b[0;34m\u001b[0m\u001b[0m\n",
            "\u001b[0;32m/usr/local/lib/python3.10/dist-packages/streamlit/runtime/state/session_state.py\u001b[0m in \u001b[0;36m_getitem\u001b[0;34m(self, widget_id, user_key)\u001b[0m\n\u001b[1;32m    412\u001b[0m         \u001b[0;31m# We'll never get here\u001b[0m\u001b[0;34m\u001b[0m\u001b[0;34m\u001b[0m\u001b[0m\n\u001b[0;32m--> 413\u001b[0;31m         \u001b[0;32mraise\u001b[0m \u001b[0mKeyError\u001b[0m\u001b[0;34m\u001b[0m\u001b[0;34m\u001b[0m\u001b[0m\n\u001b[0m\u001b[1;32m    414\u001b[0m \u001b[0;34m\u001b[0m\u001b[0m\n",
            "\u001b[0;31mKeyError\u001b[0m: ",
            "\nDuring handling of the above exception, another exception occurred:\n",
            "\u001b[0;31mKeyError\u001b[0m                                  Traceback (most recent call last)",
            "\u001b[0;32m/usr/local/lib/python3.10/dist-packages/streamlit/runtime/state/session_state_proxy.py\u001b[0m in \u001b[0;36m__getattr__\u001b[0;34m(self, key)\u001b[0m\n\u001b[1;32m    118\u001b[0m         \u001b[0;32mtry\u001b[0m\u001b[0;34m:\u001b[0m\u001b[0;34m\u001b[0m\u001b[0;34m\u001b[0m\u001b[0m\n\u001b[0;32m--> 119\u001b[0;31m             \u001b[0;32mreturn\u001b[0m \u001b[0mself\u001b[0m\u001b[0;34m[\u001b[0m\u001b[0mkey\u001b[0m\u001b[0;34m]\u001b[0m\u001b[0;34m\u001b[0m\u001b[0;34m\u001b[0m\u001b[0m\n\u001b[0m\u001b[1;32m    120\u001b[0m         \u001b[0;32mexcept\u001b[0m \u001b[0mKeyError\u001b[0m\u001b[0;34m:\u001b[0m\u001b[0;34m\u001b[0m\u001b[0;34m\u001b[0m\u001b[0m\n",
            "\u001b[0;32m/usr/local/lib/python3.10/dist-packages/streamlit/runtime/state/session_state_proxy.py\u001b[0m in \u001b[0;36m__getitem__\u001b[0;34m(self, key)\u001b[0m\n\u001b[1;32m     89\u001b[0m         \u001b[0mrequire_valid_user_key\u001b[0m\u001b[0;34m(\u001b[0m\u001b[0mkey\u001b[0m\u001b[0;34m)\u001b[0m\u001b[0;34m\u001b[0m\u001b[0;34m\u001b[0m\u001b[0m\n\u001b[0;32m---> 90\u001b[0;31m         \u001b[0;32mreturn\u001b[0m \u001b[0mget_session_state\u001b[0m\u001b[0;34m(\u001b[0m\u001b[0;34m)\u001b[0m\u001b[0;34m[\u001b[0m\u001b[0mkey\u001b[0m\u001b[0;34m]\u001b[0m\u001b[0;34m\u001b[0m\u001b[0;34m\u001b[0m\u001b[0m\n\u001b[0m\u001b[1;32m     91\u001b[0m \u001b[0;34m\u001b[0m\u001b[0m\n",
            "\u001b[0;32m/usr/local/lib/python3.10/dist-packages/streamlit/runtime/state/safe_session_state.py\u001b[0m in \u001b[0;36m__getitem__\u001b[0;34m(self, key)\u001b[0m\n\u001b[1;32m    105\u001b[0m \u001b[0;34m\u001b[0m\u001b[0m\n\u001b[0;32m--> 106\u001b[0;31m             \u001b[0;32mreturn\u001b[0m \u001b[0mself\u001b[0m\u001b[0;34m.\u001b[0m\u001b[0m_state\u001b[0m\u001b[0;34m[\u001b[0m\u001b[0mkey\u001b[0m\u001b[0;34m]\u001b[0m\u001b[0;34m\u001b[0m\u001b[0;34m\u001b[0m\u001b[0m\n\u001b[0m\u001b[1;32m    107\u001b[0m \u001b[0;34m\u001b[0m\u001b[0m\n",
            "\u001b[0;32m/usr/local/lib/python3.10/dist-packages/streamlit/runtime/state/session_state.py\u001b[0m in \u001b[0;36m__getitem__\u001b[0;34m(self, key)\u001b[0m\n\u001b[1;32m    369\u001b[0m         \u001b[0;32mexcept\u001b[0m \u001b[0mKeyError\u001b[0m\u001b[0;34m:\u001b[0m\u001b[0;34m\u001b[0m\u001b[0;34m\u001b[0m\u001b[0m\n\u001b[0;32m--> 370\u001b[0;31m             \u001b[0;32mraise\u001b[0m \u001b[0mKeyError\u001b[0m\u001b[0;34m(\u001b[0m\u001b[0m_missing_key_error_message\u001b[0m\u001b[0;34m(\u001b[0m\u001b[0mkey\u001b[0m\u001b[0;34m)\u001b[0m\u001b[0;34m)\u001b[0m\u001b[0;34m\u001b[0m\u001b[0;34m\u001b[0m\u001b[0m\n\u001b[0m\u001b[1;32m    371\u001b[0m \u001b[0;34m\u001b[0m\u001b[0m\n",
            "\u001b[0;31mKeyError\u001b[0m: 'st.session_state has no key \"messages\". Did you forget to initialize it? More info: https://docs.streamlit.io/library/advanced-features/session-state#initialization'",
            "\nDuring handling of the above exception, another exception occurred:\n",
            "\u001b[0;31mAttributeError\u001b[0m                            Traceback (most recent call last)",
            "\u001b[0;32m<ipython-input-36-7b2ef55fe596>\u001b[0m in \u001b[0;36m<cell line: 34>\u001b[0;34m()\u001b[0m\n\u001b[1;32m     32\u001b[0m \u001b[0muser_input\u001b[0m \u001b[0;34m=\u001b[0m \u001b[0mst\u001b[0m\u001b[0;34m.\u001b[0m\u001b[0mtext_input\u001b[0m\u001b[0;34m(\u001b[0m\u001b[0;34m\"メッセージを入力してください。\"\u001b[0m\u001b[0;34m,\u001b[0m \u001b[0mkey\u001b[0m\u001b[0;34m=\u001b[0m\u001b[0;34m\"user_input\"\u001b[0m\u001b[0;34m,\u001b[0m \u001b[0mon_change\u001b[0m\u001b[0;34m=\u001b[0m\u001b[0mcommunicate\u001b[0m\u001b[0;34m)\u001b[0m\u001b[0;34m\u001b[0m\u001b[0;34m\u001b[0m\u001b[0m\n\u001b[1;32m     33\u001b[0m \u001b[0;34m\u001b[0m\u001b[0m\n\u001b[0;32m---> 34\u001b[0;31m \u001b[0;32mif\u001b[0m \u001b[0mst\u001b[0m\u001b[0;34m.\u001b[0m\u001b[0msession_state\u001b[0m\u001b[0;34m.\u001b[0m\u001b[0mmessages\u001b[0m\u001b[0;34m:\u001b[0m\u001b[0;34m\u001b[0m\u001b[0;34m\u001b[0m\u001b[0m\n\u001b[0m\u001b[1;32m     35\u001b[0m     \u001b[0mmessages\u001b[0m \u001b[0;34m=\u001b[0m \u001b[0mst\u001b[0m\u001b[0;34m.\u001b[0m\u001b[0msession_state\u001b[0m\u001b[0;34m.\u001b[0m\u001b[0mmessages\u001b[0m\u001b[0;34m\u001b[0m\u001b[0;34m\u001b[0m\u001b[0m\n\u001b[1;32m     36\u001b[0m \u001b[0;34m\u001b[0m\u001b[0m\n",
            "\u001b[0;32m/usr/local/lib/python3.10/dist-packages/streamlit/runtime/state/session_state_proxy.py\u001b[0m in \u001b[0;36m__getattr__\u001b[0;34m(self, key)\u001b[0m\n\u001b[1;32m    119\u001b[0m             \u001b[0;32mreturn\u001b[0m \u001b[0mself\u001b[0m\u001b[0;34m[\u001b[0m\u001b[0mkey\u001b[0m\u001b[0;34m]\u001b[0m\u001b[0;34m\u001b[0m\u001b[0;34m\u001b[0m\u001b[0m\n\u001b[1;32m    120\u001b[0m         \u001b[0;32mexcept\u001b[0m \u001b[0mKeyError\u001b[0m\u001b[0;34m:\u001b[0m\u001b[0;34m\u001b[0m\u001b[0;34m\u001b[0m\u001b[0m\n\u001b[0;32m--> 121\u001b[0;31m             \u001b[0;32mraise\u001b[0m \u001b[0mAttributeError\u001b[0m\u001b[0;34m(\u001b[0m\u001b[0m_missing_attr_error_message\u001b[0m\u001b[0;34m(\u001b[0m\u001b[0mkey\u001b[0m\u001b[0;34m)\u001b[0m\u001b[0;34m)\u001b[0m\u001b[0;34m\u001b[0m\u001b[0;34m\u001b[0m\u001b[0m\n\u001b[0m\u001b[1;32m    122\u001b[0m \u001b[0;34m\u001b[0m\u001b[0m\n\u001b[1;32m    123\u001b[0m     \u001b[0;34m@\u001b[0m\u001b[0mgather_metrics\u001b[0m\u001b[0;34m(\u001b[0m\u001b[0;34m\"session_state.set_attr\"\u001b[0m\u001b[0;34m)\u001b[0m\u001b[0;34m\u001b[0m\u001b[0;34m\u001b[0m\u001b[0m\n",
            "\u001b[0;31mAttributeError\u001b[0m: st.session_state has no attribute \"messages\". Did you forget to initialize it? More info: https://docs.streamlit.io/library/advanced-features/session-state#initialization"
          ]
        }
      ]
    },
    {
      "cell_type": "markdown",
      "source": [
        "## アプリの起動\n",
        "streamlitの`run`コマンドでアプリを起動します。\n"
      ],
      "metadata": {
        "id": "CnobL05MkjB1"
      }
    },
    {
      "cell_type": "code",
      "source": [
        "!streamlit run app.py &>/dev/null&  # 「&>/dev/null&」により、出力を非表示にしてバックグランドジョブとして実行"
      ],
      "metadata": {
        "id": "W0jXlMXWK0vi"
      },
      "execution_count": 18,
      "outputs": []
    },
    {
      "cell_type": "markdown",
      "source": [
        "ngrokのプロセスを終了した上で、新たにポートを指定して接続します。  \n",
        "接続の結果、urlを取得できます。  \n",
        "ngrokの無料プランでは同時に1つのプロセスしか動かせないので、エラーが発生した場合は「ランタイム」→「セッションの管理」で不要なGoogle Colabのセッションを修了しましょう。  "
      ],
      "metadata": {
        "id": "W5RLCJ7Sl2x_"
      }
    },
    {
      "cell_type": "code",
      "source": [
        "ngrok.kill()  # プロセスの修了\n",
        "url = ngrok.connect(port=\"8501\")  # 接続"
      ],
      "metadata": {
        "id": "v23ymsdLK3x7",
        "colab": {
          "base_uri": "https://localhost:8080/",
          "height": 0
        },
        "outputId": "60e48cb8-e41e-4dd0-ba52-c896183acf16"
      },
      "execution_count": 19,
      "outputs": [
        {
          "output_type": "stream",
          "name": "stderr",
          "text": [
            "INFO:pyngrok.process:ngrok process starting: 8176\n",
            "2023-08-17 07:33:43.207 INFO    pyngrok.process: ngrok process starting: 8176\n",
            "INFO:pyngrok.process:t=2023-08-17T07:33:43+0000 lvl=info msg=\"no configuration paths supplied\"\n",
            "\n",
            "2023-08-17 07:33:43.274 INFO    pyngrok.process: t=2023-08-17T07:33:43+0000 lvl=info msg=\"no configuration paths supplied\"\n",
            "\n",
            "INFO:pyngrok.process:t=2023-08-17T07:33:43+0000 lvl=info msg=\"using configuration at default config path\" path=/root/.ngrok2/ngrok.yml\n",
            "\n",
            "2023-08-17 07:33:43.283 INFO    pyngrok.process: t=2023-08-17T07:33:43+0000 lvl=info msg=\"using configuration at default config path\" path=/root/.ngrok2/ngrok.yml\n",
            "\n",
            "INFO:pyngrok.process:t=2023-08-17T07:33:43+0000 lvl=info msg=\"open config file\" path=/root/.ngrok2/ngrok.yml err=nil\n",
            "\n",
            "2023-08-17 07:33:43.288 INFO    pyngrok.process: t=2023-08-17T07:33:43+0000 lvl=info msg=\"open config file\" path=/root/.ngrok2/ngrok.yml err=nil\n",
            "\n",
            "INFO:pyngrok.process:t=2023-08-17T07:33:43+0000 lvl=info msg=\"starting web service\" obj=web addr=127.0.0.1:4040\n",
            "\n",
            "2023-08-17 07:33:43.296 INFO    pyngrok.process: t=2023-08-17T07:33:43+0000 lvl=info msg=\"starting web service\" obj=web addr=127.0.0.1:4040\n",
            "\n",
            "INFO:pyngrok.process:t=2023-08-17T07:33:43+0000 lvl=info msg=\"tunnel session started\" obj=tunnels.session\n",
            "\n",
            "2023-08-17 07:33:43.465 INFO    pyngrok.process: t=2023-08-17T07:33:43+0000 lvl=info msg=\"tunnel session started\" obj=tunnels.session\n",
            "\n",
            "INFO:pyngrok.process:t=2023-08-17T07:33:43+0000 lvl=info msg=\"client session established\" obj=csess id=10d1f7e93f15\n",
            "\n",
            "2023-08-17 07:33:43.468 INFO    pyngrok.process: t=2023-08-17T07:33:43+0000 lvl=info msg=\"client session established\" obj=csess id=10d1f7e93f15\n",
            "\n",
            "INFO:pyngrok.process:ngrok process has started: http://127.0.0.1:4040\n",
            "2023-08-17 07:33:43.475 INFO    pyngrok.process: ngrok process has started: http://127.0.0.1:4040\n",
            "INFO:pyngrok.process:t=2023-08-17T07:33:43+0000 lvl=info msg=start pg=/api/tunnels id=0379bbccbd9004c1\n",
            "\n",
            "2023-08-17 07:33:43.490 INFO    pyngrok.process: t=2023-08-17T07:33:43+0000 lvl=info msg=start pg=/api/tunnels id=0379bbccbd9004c1\n",
            "\n",
            "INFO:pyngrok.process:t=2023-08-17T07:33:43+0000 lvl=info msg=end pg=/api/tunnels id=0379bbccbd9004c1 status=200 dur=427.549µs\n",
            "\n",
            "2023-08-17 07:33:43.500 INFO    pyngrok.process: t=2023-08-17T07:33:43+0000 lvl=info msg=end pg=/api/tunnels id=0379bbccbd9004c1 status=200 dur=427.549µs\n",
            "\n",
            "INFO:pyngrok.process:t=2023-08-17T07:33:43+0000 lvl=info msg=start pg=/api/tunnels id=10fc879d47e39d26\n",
            "\n",
            "2023-08-17 07:33:43.514 INFO    pyngrok.process: t=2023-08-17T07:33:43+0000 lvl=info msg=start pg=/api/tunnels id=10fc879d47e39d26\n",
            "\n",
            "INFO:pyngrok.process:t=2023-08-17T07:33:43+0000 lvl=info msg=end pg=/api/tunnels id=10fc879d47e39d26 status=200 dur=158.409µs\n",
            "\n",
            "2023-08-17 07:33:43.529 INFO    pyngrok.process: t=2023-08-17T07:33:43+0000 lvl=info msg=end pg=/api/tunnels id=10fc879d47e39d26 status=200 dur=158.409µs\n",
            "\n",
            "INFO:pyngrok.process:t=2023-08-17T07:33:43+0000 lvl=info msg=start pg=/api/tunnels id=4cecdd8cc6a74ce4\n",
            "\n",
            "2023-08-17 07:33:43.539 INFO    pyngrok.process: t=2023-08-17T07:33:43+0000 lvl=info msg=start pg=/api/tunnels id=4cecdd8cc6a74ce4\n",
            "\n",
            "INFO:pyngrok.process:t=2023-08-17T07:33:43+0000 lvl=info msg=\"started tunnel\" obj=tunnels name=\"http-8501-13d18186-b97f-4f81-b96d-ba18a63a6fd1 (http)\" addr=http://localhost:8501 url=http://b151-35-226-167-213.ngrok-free.app\n",
            "\n",
            "2023-08-17 07:33:43.574 INFO    pyngrok.process: t=2023-08-17T07:33:43+0000 lvl=info msg=\"started tunnel\" obj=tunnels name=\"http-8501-13d18186-b97f-4f81-b96d-ba18a63a6fd1 (http)\" addr=http://localhost:8501 url=http://b151-35-226-167-213.ngrok-free.app\n",
            "\n",
            "INFO:pyngrok.process:t=2023-08-17T07:33:43+0000 lvl=info msg=\"started tunnel\" obj=tunnels name=http-8501-13d18186-b97f-4f81-b96d-ba18a63a6fd1 addr=http://localhost:8501 url=https://b151-35-226-167-213.ngrok-free.app\n",
            "\n",
            "2023-08-17 07:33:43.586 INFO    pyngrok.process: t=2023-08-17T07:33:43+0000 lvl=info msg=\"started tunnel\" obj=tunnels name=http-8501-13d18186-b97f-4f81-b96d-ba18a63a6fd1 addr=http://localhost:8501 url=https://b151-35-226-167-213.ngrok-free.app\n",
            "\n"
          ]
        }
      ]
    },
    {
      "cell_type": "markdown",
      "source": [
        "## 動作の確認"
      ],
      "metadata": {
        "id": "8tVONgWNwzZm"
      }
    },
    {
      "cell_type": "markdown",
      "source": [
        "URLのhttpの部分をhttpsに変換する関数を設定します。"
      ],
      "metadata": {
        "id": "OywWF0KBw4y5"
      }
    },
    {
      "cell_type": "code",
      "source": [
        "def convert_http_to_https(url):\n",
        "    if url.startswith(\"http://\"):\n",
        "        url = url.replace(\"http://\", \"https://\", 1)\n",
        "    return url"
      ],
      "metadata": {
        "id": "gaEkk5Dsx0rR",
        "colab": {
          "base_uri": "https://localhost:8080/",
          "height": 0
        },
        "outputId": "71d60d41-619b-4293-f852-e1d59ab91fc4"
      },
      "execution_count": 20,
      "outputs": [
        {
          "output_type": "stream",
          "name": "stderr",
          "text": [
            "INFO:pyngrok.process:t=2023-08-17T07:33:43+0000 lvl=info msg=end pg=/api/tunnels id=4cecdd8cc6a74ce4 status=201 dur=83.721407ms\n",
            "\n",
            "2023-08-17 07:33:43.602 INFO    pyngrok.process: t=2023-08-17T07:33:43+0000 lvl=info msg=end pg=/api/tunnels id=4cecdd8cc6a74ce4 status=201 dur=83.721407ms\n",
            "\n"
          ]
        }
      ]
    },
    {
      "cell_type": "markdown",
      "source": [
        "変換したurlを表示し、リンク先でチャットボットが動作することを確認します。"
      ],
      "metadata": {
        "id": "NZ0O_pNan57t"
      }
    },
    {
      "cell_type": "code",
      "source": [
        "print(convert_http_to_https(url))"
      ],
      "metadata": {
        "id": "MIY7ositLAXC",
        "colab": {
          "base_uri": "https://localhost:8080/",
          "height": 0
        },
        "outputId": "078571d2-0997-47f8-f54a-358be191750d"
      },
      "execution_count": 21,
      "outputs": [
        {
          "output_type": "stream",
          "name": "stdout",
          "text": [
            "https://b151-35-226-167-213.ngrok-free.app\n"
          ]
        }
      ]
    },
    {
      "cell_type": "markdown",
      "source": [
        "チャットボットの動作確認後、OpenAIのサイトでAPIの使用量を確認してみましょう。  \n",
        "https://platform.openai.com/account/usage"
      ],
      "metadata": {
        "id": "B8hdFAd6VIaz"
      }
    }
  ]
}